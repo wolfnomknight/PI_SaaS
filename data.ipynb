{
 "cells": [
  {
   "cell_type": "code",
   "execution_count": 1,
   "metadata": {},
   "outputs": [],
   "source": [
    "from requests import get"
   ]
  },
  {
   "cell_type": "code",
   "execution_count": 4,
   "metadata": {},
   "outputs": [
    {
     "data": {
      "text/plain": [
       "b'{\"hello\":\"world\",\"dir\":[\"Excaulebur_2024-04-04.csv\",\"Excaulebur_2024-04-06.csv\",\"Excaulebur_2024-04-09.csv\",\"Excaulebur_2024-04-11.csv\",\"Excaulebur_2024-04-16.csv\",\"Excaulebur_2024-04-18.csv\",\"Excaulebur_2024-04-20.csv\",\"Totosa_2024-04-03.csv\",\"Totosa_2024-04-05.csv\",\"Totosa_2024-04-08.csv\",\"Totosa_2024-04-10.csv\",\"Totosa_2024-04-15.csv\",\"Totosa_2024-04-17.csv\"]}'"
      ]
     },
     "execution_count": 4,
     "metadata": {},
     "output_type": "execute_result"
    }
   ],
   "source": [
    "get('https://admdescomplica.vercel.app/test').content"
   ]
  }
 ],
 "metadata": {
  "kernelspec": {
   "display_name": "Python 3",
   "language": "python",
   "name": "python3"
  },
  "language_info": {
   "codemirror_mode": {
    "name": "ipython",
    "version": 3
   },
   "file_extension": ".py",
   "mimetype": "text/x-python",
   "name": "python",
   "nbconvert_exporter": "python",
   "pygments_lexer": "ipython3",
   "version": "3.12.1"
  }
 },
 "nbformat": 4,
 "nbformat_minor": 2
}
